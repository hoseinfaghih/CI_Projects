{
  "nbformat": 4,
  "nbformat_minor": 0,
  "metadata": {
    "colab": {
      "provenance": []
    },
    "kernelspec": {
      "name": "python3",
      "display_name": "Python 3"
    },
    "language_info": {
      "name": "python"
    }
  },
  "cells": [
    {
      "cell_type": "code",
      "execution_count": 43,
      "metadata": {
        "id": "U_ey7IaCs3-2"
      },
      "outputs": [],
      "source": [
        "import numpy as np\n",
        "import pandas as pd"
      ]
    },
    {
      "cell_type": "code",
      "source": [
        "df_train = pd.read_csv(\"drive/MyDrive/Dataset-Project2-CI/train_ds.csv\")\n",
        "df_test = pd.read_csv(\"drive/MyDrive/Dataset-Project2-CI/test_ds.csv\")"
      ],
      "metadata": {
        "id": "lEDOqJt8uUQX"
      },
      "execution_count": 44,
      "outputs": []
    },
    {
      "cell_type": "code",
      "source": [
        "df_train.info()"
      ],
      "metadata": {
        "colab": {
          "base_uri": "https://localhost:8080/"
        },
        "id": "m9NoUlr4OuNy",
        "outputId": "e0023cd1-b60d-489e-f69b-178f0890e1da"
      },
      "execution_count": 45,
      "outputs": [
        {
          "output_type": "stream",
          "name": "stdout",
          "text": [
            "<class 'pandas.core.frame.DataFrame'>\n",
            "RangeIndex: 2400 entries, 0 to 2399\n",
            "Data columns (total 10 columns):\n",
            " #   Column        Non-Null Count  Dtype  \n",
            "---  ------        --------------  -----  \n",
            " 0   model         2400 non-null   object \n",
            " 1   year          2069 non-null   float64\n",
            " 2   price         2052 non-null   float64\n",
            " 3   transmission  2400 non-null   object \n",
            " 4   mileage       2025 non-null   float64\n",
            " 5   fuelType      2400 non-null   object \n",
            " 6   tax           2055 non-null   float64\n",
            " 7   mpg           2064 non-null   float64\n",
            " 8   engineSize    2067 non-null   float64\n",
            " 9   Manufacturer  2400 non-null   object \n",
            "dtypes: float64(6), object(4)\n",
            "memory usage: 187.6+ KB\n"
          ]
        }
      ]
    },
    {
      "cell_type": "code",
      "source": [
        "df_train['year'] = df_train['year'].fillna(df_train['year'].mode()[0])\n",
        "df_train['price'] = df_train['price'].fillna(df_train['price'].mean())\n",
        "df_train['mileage'] = df_train['mileage'].fillna(df_train['mileage'].mean())\n",
        "df_train['tax'] = df_train['tax'].fillna(df_train['tax'].mode()[0])\n",
        "df_train['mpg'] = df_train['mpg'].fillna(df_train['mpg'].mean())\n",
        "df_train['engineSize'] = df_train['engineSize'].fillna(df_train['engineSize'].mode()[0])"
      ],
      "metadata": {
        "id": "B4RiWN2xu-sL"
      },
      "execution_count": 46,
      "outputs": []
    },
    {
      "cell_type": "code",
      "source": [
        "df_train.info()"
      ],
      "metadata": {
        "colab": {
          "base_uri": "https://localhost:8080/"
        },
        "id": "d5lp4A-uwVaX",
        "outputId": "adce3584-a7b2-4f7b-bb3f-2cb6878a5af5"
      },
      "execution_count": 47,
      "outputs": [
        {
          "output_type": "stream",
          "name": "stdout",
          "text": [
            "<class 'pandas.core.frame.DataFrame'>\n",
            "RangeIndex: 2400 entries, 0 to 2399\n",
            "Data columns (total 10 columns):\n",
            " #   Column        Non-Null Count  Dtype  \n",
            "---  ------        --------------  -----  \n",
            " 0   model         2400 non-null   object \n",
            " 1   year          2400 non-null   float64\n",
            " 2   price         2400 non-null   float64\n",
            " 3   transmission  2400 non-null   object \n",
            " 4   mileage       2400 non-null   float64\n",
            " 5   fuelType      2400 non-null   object \n",
            " 6   tax           2400 non-null   float64\n",
            " 7   mpg           2400 non-null   float64\n",
            " 8   engineSize    2400 non-null   float64\n",
            " 9   Manufacturer  2400 non-null   object \n",
            "dtypes: float64(6), object(4)\n",
            "memory usage: 187.6+ KB\n"
          ]
        }
      ]
    },
    {
      "cell_type": "code",
      "source": [
        "from sklearn.preprocessing import LabelEncoder\n",
        "\n",
        "label_encoder = LabelEncoder()\n",
        "\n",
        "# Loop through each categorical column and encode it\n",
        "for col in ['transmission', 'fuelType', 'Manufacturer','model']:\n",
        "    # Fit LabelEncoder on train data\n",
        "    label_encoder.fit(df_test[col])\n",
        "\n",
        "    # Transform (encode) train and test data using the same LabelEncoder\n",
        "    df_train[col + '_encoded'] = label_encoder.transform(df_train[col])\n",
        "    df_test[col + '_encoded'] = label_encoder.transform(df_test[col])\n",
        "\n",
        "\n",
        "label_encoder.fit(df_train['engineSize'])\n",
        "df_train['engineSize' + '_encoded'] = label_encoder.transform(df_train['engineSize'])\n",
        "df_test['engineSize' + '_encoded'] = label_encoder.transform(df_test['engineSize'])"
      ],
      "metadata": {
        "id": "b5fqTdu1wyDg"
      },
      "execution_count": 48,
      "outputs": []
    },
    {
      "cell_type": "code",
      "source": [
        "df_train"
      ],
      "metadata": {
        "colab": {
          "base_uri": "https://localhost:8080/",
          "height": 478
        },
        "id": "xVFovwLcx94D",
        "outputId": "004a7694-547a-41df-c53f-59b271db7546"
      },
      "execution_count": 49,
      "outputs": [
        {
          "output_type": "execute_result",
          "data": {
            "text/plain": [
              "           model    year         price transmission       mileage fuelType  \\\n",
              "0           Aygo  2016.0   7500.000000       Manual  14612.000000   Petrol   \n",
              "1             Up  2018.0   8712.000000       Manual   1607.000000   Petrol   \n",
              "2          Focus  2018.0  12670.000000       Manual   7162.000000   Petrol   \n",
              "3      GLA Class  2019.0  23599.000000    Semi-Auto  23931.409877   Petrol   \n",
              "4        Octavia  2019.0  18999.000000    Semi-Auto   1162.000000   Petrol   \n",
              "...          ...     ...           ...          ...           ...      ...   \n",
              "2395      Tiguan  2020.0  26980.000000       Manual   2194.000000   Diesel   \n",
              "2396    3 Series  2017.0  16000.000000       Manual  34098.000000   Diesel   \n",
              "2397      Fiesta  2018.0  15645.089181       Manual  23931.409877   Petrol   \n",
              "2398          Up  2017.0   7391.000000       Manual  23931.409877   Petrol   \n",
              "2399      Fiesta  2018.0  10700.000000       Manual  26522.000000   Petrol   \n",
              "\n",
              "        tax       mpg  engineSize Manufacturer  transmission_encoded  \\\n",
              "0       0.0  69.00000         1.0       toyota                     1   \n",
              "1     145.0  64.20000         1.0   volkswagen                     1   \n",
              "2     145.0  60.10000         1.0         ford                     1   \n",
              "3     145.0  36.20000         1.6         merc                     3   \n",
              "4     145.0  44.80000         1.5        skoda                     3   \n",
              "...     ...       ...         ...          ...                   ...   \n",
              "2395  145.0  42.20000         2.0   volkswagen                     1   \n",
              "2396  145.0  64.20000         2.0          BMW                     1   \n",
              "2397  145.0  65.70000         2.0         ford                     1   \n",
              "2398  150.0  64.20000         2.0   volkswagen                     1   \n",
              "2399  145.0  56.53876         2.0         ford                     1   \n",
              "\n",
              "      fuelType_encoded  Manufacturer_encoded  model_encoded  \\\n",
              "0                    3                     6             12   \n",
              "1                    3                     8             37   \n",
              "2                    3                     2             19   \n",
              "3                    3                     4             20   \n",
              "4                    3                     5             28   \n",
              "...                ...                   ...            ...   \n",
              "2395                 0                     8             35   \n",
              "2396                 0                     1              2   \n",
              "2397                 3                     2             18   \n",
              "2398                 3                     8             37   \n",
              "2399                 3                     2             18   \n",
              "\n",
              "      engineSize_encoded  \n",
              "0                      1  \n",
              "1                      1  \n",
              "2                      1  \n",
              "3                      7  \n",
              "4                      6  \n",
              "...                  ...  \n",
              "2395                  10  \n",
              "2396                  10  \n",
              "2397                  10  \n",
              "2398                  10  \n",
              "2399                  10  \n",
              "\n",
              "[2400 rows x 15 columns]"
            ],
            "text/html": [
              "\n",
              "  <div id=\"df-9aa2eda6-bbbc-4330-931a-7f5c19ad6a43\" class=\"colab-df-container\">\n",
              "    <div>\n",
              "<style scoped>\n",
              "    .dataframe tbody tr th:only-of-type {\n",
              "        vertical-align: middle;\n",
              "    }\n",
              "\n",
              "    .dataframe tbody tr th {\n",
              "        vertical-align: top;\n",
              "    }\n",
              "\n",
              "    .dataframe thead th {\n",
              "        text-align: right;\n",
              "    }\n",
              "</style>\n",
              "<table border=\"1\" class=\"dataframe\">\n",
              "  <thead>\n",
              "    <tr style=\"text-align: right;\">\n",
              "      <th></th>\n",
              "      <th>model</th>\n",
              "      <th>year</th>\n",
              "      <th>price</th>\n",
              "      <th>transmission</th>\n",
              "      <th>mileage</th>\n",
              "      <th>fuelType</th>\n",
              "      <th>tax</th>\n",
              "      <th>mpg</th>\n",
              "      <th>engineSize</th>\n",
              "      <th>Manufacturer</th>\n",
              "      <th>transmission_encoded</th>\n",
              "      <th>fuelType_encoded</th>\n",
              "      <th>Manufacturer_encoded</th>\n",
              "      <th>model_encoded</th>\n",
              "      <th>engineSize_encoded</th>\n",
              "    </tr>\n",
              "  </thead>\n",
              "  <tbody>\n",
              "    <tr>\n",
              "      <th>0</th>\n",
              "      <td>Aygo</td>\n",
              "      <td>2016.0</td>\n",
              "      <td>7500.000000</td>\n",
              "      <td>Manual</td>\n",
              "      <td>14612.000000</td>\n",
              "      <td>Petrol</td>\n",
              "      <td>0.0</td>\n",
              "      <td>69.00000</td>\n",
              "      <td>1.0</td>\n",
              "      <td>toyota</td>\n",
              "      <td>1</td>\n",
              "      <td>3</td>\n",
              "      <td>6</td>\n",
              "      <td>12</td>\n",
              "      <td>1</td>\n",
              "    </tr>\n",
              "    <tr>\n",
              "      <th>1</th>\n",
              "      <td>Up</td>\n",
              "      <td>2018.0</td>\n",
              "      <td>8712.000000</td>\n",
              "      <td>Manual</td>\n",
              "      <td>1607.000000</td>\n",
              "      <td>Petrol</td>\n",
              "      <td>145.0</td>\n",
              "      <td>64.20000</td>\n",
              "      <td>1.0</td>\n",
              "      <td>volkswagen</td>\n",
              "      <td>1</td>\n",
              "      <td>3</td>\n",
              "      <td>8</td>\n",
              "      <td>37</td>\n",
              "      <td>1</td>\n",
              "    </tr>\n",
              "    <tr>\n",
              "      <th>2</th>\n",
              "      <td>Focus</td>\n",
              "      <td>2018.0</td>\n",
              "      <td>12670.000000</td>\n",
              "      <td>Manual</td>\n",
              "      <td>7162.000000</td>\n",
              "      <td>Petrol</td>\n",
              "      <td>145.0</td>\n",
              "      <td>60.10000</td>\n",
              "      <td>1.0</td>\n",
              "      <td>ford</td>\n",
              "      <td>1</td>\n",
              "      <td>3</td>\n",
              "      <td>2</td>\n",
              "      <td>19</td>\n",
              "      <td>1</td>\n",
              "    </tr>\n",
              "    <tr>\n",
              "      <th>3</th>\n",
              "      <td>GLA Class</td>\n",
              "      <td>2019.0</td>\n",
              "      <td>23599.000000</td>\n",
              "      <td>Semi-Auto</td>\n",
              "      <td>23931.409877</td>\n",
              "      <td>Petrol</td>\n",
              "      <td>145.0</td>\n",
              "      <td>36.20000</td>\n",
              "      <td>1.6</td>\n",
              "      <td>merc</td>\n",
              "      <td>3</td>\n",
              "      <td>3</td>\n",
              "      <td>4</td>\n",
              "      <td>20</td>\n",
              "      <td>7</td>\n",
              "    </tr>\n",
              "    <tr>\n",
              "      <th>4</th>\n",
              "      <td>Octavia</td>\n",
              "      <td>2019.0</td>\n",
              "      <td>18999.000000</td>\n",
              "      <td>Semi-Auto</td>\n",
              "      <td>1162.000000</td>\n",
              "      <td>Petrol</td>\n",
              "      <td>145.0</td>\n",
              "      <td>44.80000</td>\n",
              "      <td>1.5</td>\n",
              "      <td>skoda</td>\n",
              "      <td>3</td>\n",
              "      <td>3</td>\n",
              "      <td>5</td>\n",
              "      <td>28</td>\n",
              "      <td>6</td>\n",
              "    </tr>\n",
              "    <tr>\n",
              "      <th>...</th>\n",
              "      <td>...</td>\n",
              "      <td>...</td>\n",
              "      <td>...</td>\n",
              "      <td>...</td>\n",
              "      <td>...</td>\n",
              "      <td>...</td>\n",
              "      <td>...</td>\n",
              "      <td>...</td>\n",
              "      <td>...</td>\n",
              "      <td>...</td>\n",
              "      <td>...</td>\n",
              "      <td>...</td>\n",
              "      <td>...</td>\n",
              "      <td>...</td>\n",
              "      <td>...</td>\n",
              "    </tr>\n",
              "    <tr>\n",
              "      <th>2395</th>\n",
              "      <td>Tiguan</td>\n",
              "      <td>2020.0</td>\n",
              "      <td>26980.000000</td>\n",
              "      <td>Manual</td>\n",
              "      <td>2194.000000</td>\n",
              "      <td>Diesel</td>\n",
              "      <td>145.0</td>\n",
              "      <td>42.20000</td>\n",
              "      <td>2.0</td>\n",
              "      <td>volkswagen</td>\n",
              "      <td>1</td>\n",
              "      <td>0</td>\n",
              "      <td>8</td>\n",
              "      <td>35</td>\n",
              "      <td>10</td>\n",
              "    </tr>\n",
              "    <tr>\n",
              "      <th>2396</th>\n",
              "      <td>3 Series</td>\n",
              "      <td>2017.0</td>\n",
              "      <td>16000.000000</td>\n",
              "      <td>Manual</td>\n",
              "      <td>34098.000000</td>\n",
              "      <td>Diesel</td>\n",
              "      <td>145.0</td>\n",
              "      <td>64.20000</td>\n",
              "      <td>2.0</td>\n",
              "      <td>BMW</td>\n",
              "      <td>1</td>\n",
              "      <td>0</td>\n",
              "      <td>1</td>\n",
              "      <td>2</td>\n",
              "      <td>10</td>\n",
              "    </tr>\n",
              "    <tr>\n",
              "      <th>2397</th>\n",
              "      <td>Fiesta</td>\n",
              "      <td>2018.0</td>\n",
              "      <td>15645.089181</td>\n",
              "      <td>Manual</td>\n",
              "      <td>23931.409877</td>\n",
              "      <td>Petrol</td>\n",
              "      <td>145.0</td>\n",
              "      <td>65.70000</td>\n",
              "      <td>2.0</td>\n",
              "      <td>ford</td>\n",
              "      <td>1</td>\n",
              "      <td>3</td>\n",
              "      <td>2</td>\n",
              "      <td>18</td>\n",
              "      <td>10</td>\n",
              "    </tr>\n",
              "    <tr>\n",
              "      <th>2398</th>\n",
              "      <td>Up</td>\n",
              "      <td>2017.0</td>\n",
              "      <td>7391.000000</td>\n",
              "      <td>Manual</td>\n",
              "      <td>23931.409877</td>\n",
              "      <td>Petrol</td>\n",
              "      <td>150.0</td>\n",
              "      <td>64.20000</td>\n",
              "      <td>2.0</td>\n",
              "      <td>volkswagen</td>\n",
              "      <td>1</td>\n",
              "      <td>3</td>\n",
              "      <td>8</td>\n",
              "      <td>37</td>\n",
              "      <td>10</td>\n",
              "    </tr>\n",
              "    <tr>\n",
              "      <th>2399</th>\n",
              "      <td>Fiesta</td>\n",
              "      <td>2018.0</td>\n",
              "      <td>10700.000000</td>\n",
              "      <td>Manual</td>\n",
              "      <td>26522.000000</td>\n",
              "      <td>Petrol</td>\n",
              "      <td>145.0</td>\n",
              "      <td>56.53876</td>\n",
              "      <td>2.0</td>\n",
              "      <td>ford</td>\n",
              "      <td>1</td>\n",
              "      <td>3</td>\n",
              "      <td>2</td>\n",
              "      <td>18</td>\n",
              "      <td>10</td>\n",
              "    </tr>\n",
              "  </tbody>\n",
              "</table>\n",
              "<p>2400 rows × 15 columns</p>\n",
              "</div>\n",
              "    <div class=\"colab-df-buttons\">\n",
              "\n",
              "  <div class=\"colab-df-container\">\n",
              "    <button class=\"colab-df-convert\" onclick=\"convertToInteractive('df-9aa2eda6-bbbc-4330-931a-7f5c19ad6a43')\"\n",
              "            title=\"Convert this dataframe to an interactive table.\"\n",
              "            style=\"display:none;\">\n",
              "\n",
              "  <svg xmlns=\"http://www.w3.org/2000/svg\" height=\"24px\" viewBox=\"0 -960 960 960\">\n",
              "    <path d=\"M120-120v-720h720v720H120Zm60-500h600v-160H180v160Zm220 220h160v-160H400v160Zm0 220h160v-160H400v160ZM180-400h160v-160H180v160Zm440 0h160v-160H620v160ZM180-180h160v-160H180v160Zm440 0h160v-160H620v160Z\"/>\n",
              "  </svg>\n",
              "    </button>\n",
              "\n",
              "  <style>\n",
              "    .colab-df-container {\n",
              "      display:flex;\n",
              "      gap: 12px;\n",
              "    }\n",
              "\n",
              "    .colab-df-convert {\n",
              "      background-color: #E8F0FE;\n",
              "      border: none;\n",
              "      border-radius: 50%;\n",
              "      cursor: pointer;\n",
              "      display: none;\n",
              "      fill: #1967D2;\n",
              "      height: 32px;\n",
              "      padding: 0 0 0 0;\n",
              "      width: 32px;\n",
              "    }\n",
              "\n",
              "    .colab-df-convert:hover {\n",
              "      background-color: #E2EBFA;\n",
              "      box-shadow: 0px 1px 2px rgba(60, 64, 67, 0.3), 0px 1px 3px 1px rgba(60, 64, 67, 0.15);\n",
              "      fill: #174EA6;\n",
              "    }\n",
              "\n",
              "    .colab-df-buttons div {\n",
              "      margin-bottom: 4px;\n",
              "    }\n",
              "\n",
              "    [theme=dark] .colab-df-convert {\n",
              "      background-color: #3B4455;\n",
              "      fill: #D2E3FC;\n",
              "    }\n",
              "\n",
              "    [theme=dark] .colab-df-convert:hover {\n",
              "      background-color: #434B5C;\n",
              "      box-shadow: 0px 1px 3px 1px rgba(0, 0, 0, 0.15);\n",
              "      filter: drop-shadow(0px 1px 2px rgba(0, 0, 0, 0.3));\n",
              "      fill: #FFFFFF;\n",
              "    }\n",
              "  </style>\n",
              "\n",
              "    <script>\n",
              "      const buttonEl =\n",
              "        document.querySelector('#df-9aa2eda6-bbbc-4330-931a-7f5c19ad6a43 button.colab-df-convert');\n",
              "      buttonEl.style.display =\n",
              "        google.colab.kernel.accessAllowed ? 'block' : 'none';\n",
              "\n",
              "      async function convertToInteractive(key) {\n",
              "        const element = document.querySelector('#df-9aa2eda6-bbbc-4330-931a-7f5c19ad6a43');\n",
              "        const dataTable =\n",
              "          await google.colab.kernel.invokeFunction('convertToInteractive',\n",
              "                                                    [key], {});\n",
              "        if (!dataTable) return;\n",
              "\n",
              "        const docLinkHtml = 'Like what you see? Visit the ' +\n",
              "          '<a target=\"_blank\" href=https://colab.research.google.com/notebooks/data_table.ipynb>data table notebook</a>'\n",
              "          + ' to learn more about interactive tables.';\n",
              "        element.innerHTML = '';\n",
              "        dataTable['output_type'] = 'display_data';\n",
              "        await google.colab.output.renderOutput(dataTable, element);\n",
              "        const docLink = document.createElement('div');\n",
              "        docLink.innerHTML = docLinkHtml;\n",
              "        element.appendChild(docLink);\n",
              "      }\n",
              "    </script>\n",
              "  </div>\n",
              "\n",
              "\n",
              "<div id=\"df-2b32979d-fb63-437b-8a0e-4eb4e0719e18\">\n",
              "  <button class=\"colab-df-quickchart\" onclick=\"quickchart('df-2b32979d-fb63-437b-8a0e-4eb4e0719e18')\"\n",
              "            title=\"Suggest charts\"\n",
              "            style=\"display:none;\">\n",
              "\n",
              "<svg xmlns=\"http://www.w3.org/2000/svg\" height=\"24px\"viewBox=\"0 0 24 24\"\n",
              "     width=\"24px\">\n",
              "    <g>\n",
              "        <path d=\"M19 3H5c-1.1 0-2 .9-2 2v14c0 1.1.9 2 2 2h14c1.1 0 2-.9 2-2V5c0-1.1-.9-2-2-2zM9 17H7v-7h2v7zm4 0h-2V7h2v10zm4 0h-2v-4h2v4z\"/>\n",
              "    </g>\n",
              "</svg>\n",
              "  </button>\n",
              "\n",
              "<style>\n",
              "  .colab-df-quickchart {\n",
              "      --bg-color: #E8F0FE;\n",
              "      --fill-color: #1967D2;\n",
              "      --hover-bg-color: #E2EBFA;\n",
              "      --hover-fill-color: #174EA6;\n",
              "      --disabled-fill-color: #AAA;\n",
              "      --disabled-bg-color: #DDD;\n",
              "  }\n",
              "\n",
              "  [theme=dark] .colab-df-quickchart {\n",
              "      --bg-color: #3B4455;\n",
              "      --fill-color: #D2E3FC;\n",
              "      --hover-bg-color: #434B5C;\n",
              "      --hover-fill-color: #FFFFFF;\n",
              "      --disabled-bg-color: #3B4455;\n",
              "      --disabled-fill-color: #666;\n",
              "  }\n",
              "\n",
              "  .colab-df-quickchart {\n",
              "    background-color: var(--bg-color);\n",
              "    border: none;\n",
              "    border-radius: 50%;\n",
              "    cursor: pointer;\n",
              "    display: none;\n",
              "    fill: var(--fill-color);\n",
              "    height: 32px;\n",
              "    padding: 0;\n",
              "    width: 32px;\n",
              "  }\n",
              "\n",
              "  .colab-df-quickchart:hover {\n",
              "    background-color: var(--hover-bg-color);\n",
              "    box-shadow: 0 1px 2px rgba(60, 64, 67, 0.3), 0 1px 3px 1px rgba(60, 64, 67, 0.15);\n",
              "    fill: var(--button-hover-fill-color);\n",
              "  }\n",
              "\n",
              "  .colab-df-quickchart-complete:disabled,\n",
              "  .colab-df-quickchart-complete:disabled:hover {\n",
              "    background-color: var(--disabled-bg-color);\n",
              "    fill: var(--disabled-fill-color);\n",
              "    box-shadow: none;\n",
              "  }\n",
              "\n",
              "  .colab-df-spinner {\n",
              "    border: 2px solid var(--fill-color);\n",
              "    border-color: transparent;\n",
              "    border-bottom-color: var(--fill-color);\n",
              "    animation:\n",
              "      spin 1s steps(1) infinite;\n",
              "  }\n",
              "\n",
              "  @keyframes spin {\n",
              "    0% {\n",
              "      border-color: transparent;\n",
              "      border-bottom-color: var(--fill-color);\n",
              "      border-left-color: var(--fill-color);\n",
              "    }\n",
              "    20% {\n",
              "      border-color: transparent;\n",
              "      border-left-color: var(--fill-color);\n",
              "      border-top-color: var(--fill-color);\n",
              "    }\n",
              "    30% {\n",
              "      border-color: transparent;\n",
              "      border-left-color: var(--fill-color);\n",
              "      border-top-color: var(--fill-color);\n",
              "      border-right-color: var(--fill-color);\n",
              "    }\n",
              "    40% {\n",
              "      border-color: transparent;\n",
              "      border-right-color: var(--fill-color);\n",
              "      border-top-color: var(--fill-color);\n",
              "    }\n",
              "    60% {\n",
              "      border-color: transparent;\n",
              "      border-right-color: var(--fill-color);\n",
              "    }\n",
              "    80% {\n",
              "      border-color: transparent;\n",
              "      border-right-color: var(--fill-color);\n",
              "      border-bottom-color: var(--fill-color);\n",
              "    }\n",
              "    90% {\n",
              "      border-color: transparent;\n",
              "      border-bottom-color: var(--fill-color);\n",
              "    }\n",
              "  }\n",
              "</style>\n",
              "\n",
              "  <script>\n",
              "    async function quickchart(key) {\n",
              "      const quickchartButtonEl =\n",
              "        document.querySelector('#' + key + ' button');\n",
              "      quickchartButtonEl.disabled = true;  // To prevent multiple clicks.\n",
              "      quickchartButtonEl.classList.add('colab-df-spinner');\n",
              "      try {\n",
              "        const charts = await google.colab.kernel.invokeFunction(\n",
              "            'suggestCharts', [key], {});\n",
              "      } catch (error) {\n",
              "        console.error('Error during call to suggestCharts:', error);\n",
              "      }\n",
              "      quickchartButtonEl.classList.remove('colab-df-spinner');\n",
              "      quickchartButtonEl.classList.add('colab-df-quickchart-complete');\n",
              "    }\n",
              "    (() => {\n",
              "      let quickchartButtonEl =\n",
              "        document.querySelector('#df-2b32979d-fb63-437b-8a0e-4eb4e0719e18 button');\n",
              "      quickchartButtonEl.style.display =\n",
              "        google.colab.kernel.accessAllowed ? 'block' : 'none';\n",
              "    })();\n",
              "  </script>\n",
              "</div>\n",
              "    </div>\n",
              "  </div>\n"
            ],
            "application/vnd.google.colaboratory.intrinsic+json": {
              "type": "dataframe",
              "variable_name": "df_train",
              "summary": "{\n  \"name\": \"df_train\",\n  \"rows\": 2400,\n  \"fields\": [\n    {\n      \"column\": \"model\",\n      \"properties\": {\n        \"dtype\": \"category\",\n        \"num_unique_values\": 40,\n        \"samples\": [\n          \" 4 Series\",\n          \" Polo\",\n          \" Astra\"\n        ],\n        \"semantic_type\": \"\",\n        \"description\": \"\"\n      }\n    },\n    {\n      \"column\": \"year\",\n      \"properties\": {\n        \"dtype\": \"number\",\n        \"std\": 1.8742279221838138,\n        \"min\": 2003.0,\n        \"max\": 2020.0,\n        \"num_unique_values\": 17,\n        \"samples\": [\n          2016.0,\n          2018.0,\n          2014.0\n        ],\n        \"semantic_type\": \"\",\n        \"description\": \"\"\n      }\n    },\n    {\n      \"column\": \"price\",\n      \"properties\": {\n        \"dtype\": \"number\",\n        \"std\": 7631.636220531893,\n        \"min\": 850.0,\n        \"max\": 75729.0,\n        \"num_unique_values\": 1192,\n        \"samples\": [\n          19491.0,\n          16000.0,\n          28995.0\n        ],\n        \"semantic_type\": \"\",\n        \"description\": \"\"\n      }\n    },\n    {\n      \"column\": \"transmission\",\n      \"properties\": {\n        \"dtype\": \"category\",\n        \"num_unique_values\": 3,\n        \"samples\": [\n          \"Manual\",\n          \"Semi-Auto\",\n          \"Automatic\"\n        ],\n        \"semantic_type\": \"\",\n        \"description\": \"\"\n      }\n    },\n    {\n      \"column\": \"mileage\",\n      \"properties\": {\n        \"dtype\": \"number\",\n        \"std\": 19278.40579607834,\n        \"min\": 3.0,\n        \"max\": 190000.0,\n        \"num_unique_values\": 1834,\n        \"samples\": [\n          85.0,\n          2088.0,\n          22750.0\n        ],\n        \"semantic_type\": \"\",\n        \"description\": \"\"\n      }\n    },\n    {\n      \"column\": \"fuelType\",\n      \"properties\": {\n        \"dtype\": \"category\",\n        \"num_unique_values\": 4,\n        \"samples\": [\n          \"Diesel\",\n          \"Other\",\n          \"Petrol\"\n        ],\n        \"semantic_type\": \"\",\n        \"description\": \"\"\n      }\n    },\n    {\n      \"column\": \"tax\",\n      \"properties\": {\n        \"dtype\": \"number\",\n        \"std\": 56.3006614602358,\n        \"min\": 0.0,\n        \"max\": 565.0,\n        \"num_unique_values\": 20,\n        \"samples\": [\n          0.0,\n          240.0,\n          260.0\n        ],\n        \"semantic_type\": \"\",\n        \"description\": \"\"\n      }\n    },\n    {\n      \"column\": \"mpg\",\n      \"properties\": {\n        \"dtype\": \"number\",\n        \"std\": 12.727869320940583,\n        \"min\": 22.1,\n        \"max\": 201.8,\n        \"num_unique_values\": 93,\n        \"samples\": [\n          29.1,\n          50.4,\n          83.1\n        ],\n        \"semantic_type\": \"\",\n        \"description\": \"\"\n      }\n    },\n    {\n      \"column\": \"engineSize\",\n      \"properties\": {\n        \"dtype\": \"number\",\n        \"std\": 0.47667331031709087,\n        \"min\": 0.0,\n        \"max\": 4.0,\n        \"num_unique_values\": 16,\n        \"samples\": [\n          1.0,\n          1.6,\n          1.7\n        ],\n        \"semantic_type\": \"\",\n        \"description\": \"\"\n      }\n    },\n    {\n      \"column\": \"Manufacturer\",\n      \"properties\": {\n        \"dtype\": \"category\",\n        \"num_unique_values\": 9,\n        \"samples\": [\n          \"Audi\",\n          \"volkswagen\",\n          \"vauxhall\"\n        ],\n        \"semantic_type\": \"\",\n        \"description\": \"\"\n      }\n    },\n    {\n      \"column\": \"transmission_encoded\",\n      \"properties\": {\n        \"dtype\": \"number\",\n        \"std\": 1,\n        \"min\": 0,\n        \"max\": 3,\n        \"num_unique_values\": 3,\n        \"samples\": [\n          1,\n          3,\n          0\n        ],\n        \"semantic_type\": \"\",\n        \"description\": \"\"\n      }\n    },\n    {\n      \"column\": \"fuelType_encoded\",\n      \"properties\": {\n        \"dtype\": \"number\",\n        \"std\": 1,\n        \"min\": 0,\n        \"max\": 3,\n        \"num_unique_values\": 4,\n        \"samples\": [\n          0,\n          2,\n          3\n        ],\n        \"semantic_type\": \"\",\n        \"description\": \"\"\n      }\n    },\n    {\n      \"column\": \"Manufacturer_encoded\",\n      \"properties\": {\n        \"dtype\": \"number\",\n        \"std\": 2,\n        \"min\": 0,\n        \"max\": 8,\n        \"num_unique_values\": 9,\n        \"samples\": [\n          0,\n          8,\n          7\n        ],\n        \"semantic_type\": \"\",\n        \"description\": \"\"\n      }\n    },\n    {\n      \"column\": \"model_encoded\",\n      \"properties\": {\n        \"dtype\": \"number\",\n        \"std\": 10,\n        \"min\": 0,\n        \"max\": 39,\n        \"num_unique_values\": 40,\n        \"samples\": [\n          3,\n          30,\n          11\n        ],\n        \"semantic_type\": \"\",\n        \"description\": \"\"\n      }\n    },\n    {\n      \"column\": \"engineSize_encoded\",\n      \"properties\": {\n        \"dtype\": \"number\",\n        \"std\": 3,\n        \"min\": 0,\n        \"max\": 15,\n        \"num_unique_values\": 16,\n        \"samples\": [\n          1,\n          7,\n          8\n        ],\n        \"semantic_type\": \"\",\n        \"description\": \"\"\n      }\n    }\n  ]\n}"
            }
          },
          "metadata": {},
          "execution_count": 49
        }
      ]
    },
    {
      "cell_type": "code",
      "source": [
        "df_train['engineSize'].unique()"
      ],
      "metadata": {
        "colab": {
          "base_uri": "https://localhost:8080/"
        },
        "id": "aA1OInt7yBdB",
        "outputId": "2c3aa2df-40c9-47b0-a5b9-f3b05e130826"
      },
      "execution_count": 50,
      "outputs": [
        {
          "output_type": "execute_result",
          "data": {
            "text/plain": [
              "array([1. , 1.6, 1.5, 1.4, 2. , 1.7, 1.2, 2.1, 0. , 3. , 1.3, 1.8, 4. ,\n",
              "       1.1, 2.5, 3.5])"
            ]
          },
          "metadata": {},
          "execution_count": 50
        }
      ]
    },
    {
      "cell_type": "code",
      "source": [
        "df_train = df_train.drop(columns=['transmission','fuelType','Manufacturer','model','engineSize'])\n",
        "df_test = df_test.drop(columns=['transmission','fuelType','Manufacturer','model','engineSize'])"
      ],
      "metadata": {
        "id": "pU2YgaHhyO8u"
      },
      "execution_count": 51,
      "outputs": []
    },
    {
      "cell_type": "code",
      "source": [
        "def entropy_calculate (indices):\n",
        "    temp = df_train.iloc[indices]\n",
        "\n",
        "    class_counts = np.bincount(temp['model_encoded'])\n",
        "\n",
        "    # Compute the probability of each class\n",
        "    probabilities = class_counts / len(temp['model_encoded'])\n",
        "\n",
        "    # Ignore zero probabilities to avoid runtime warnings\n",
        "    probabilities = probabilities[probabilities > 0]\n",
        "\n",
        "    # Calculate entropy\n",
        "    entropy = -np.sum(probabilities * np.log2(probabilities))\n",
        "\n",
        "    return entropy"
      ],
      "metadata": {
        "id": "C3gEF5DYdBsm"
      },
      "execution_count": 52,
      "outputs": []
    },
    {
      "cell_type": "code",
      "source": [
        "entropy_calculate(list(range(2400)))"
      ],
      "metadata": {
        "colab": {
          "base_uri": "https://localhost:8080/"
        },
        "id": "XeVVdTrVjc6U",
        "outputId": "50736314-050a-4b00-edc7-a40ac840e466"
      },
      "execution_count": 124,
      "outputs": [
        {
          "output_type": "execute_result",
          "data": {
            "text/plain": [
              "5.018366577203956"
            ]
          },
          "metadata": {},
          "execution_count": 124
        }
      ]
    },
    {
      "cell_type": "code",
      "source": [
        "def ig_calculate (column,indices,father_entropy) :\n",
        "  values = column.unique()\n",
        "  children = []\n",
        "  for value in values :\n",
        "    current_indices = df_train.index[column == value].tolist()\n",
        "    entropy = entropy_calculate(current_indices)\n",
        "    if (len(current_indices)!= 0):\n",
        "      children.append((entropy,len(current_indices)))\n",
        "\n",
        "  sum = 0;\n",
        "  sum_weights = 0;\n",
        "  for child in children :\n",
        "    sum_weights += child[1]\n",
        "    sum += (child[0]*child[1])\n",
        "\n",
        "  return father_entropy - sum/sum_weights"
      ],
      "metadata": {
        "id": "fuFVVqrkjbJd"
      },
      "execution_count": 53,
      "outputs": []
    },
    {
      "cell_type": "code",
      "source": [
        "best_threshold = None\n",
        "best_ig = float('-inf')\n",
        "\n",
        "# Iterate over unique values in 'price' column\n",
        "for threshold in df_train['price'].unique():\n",
        "    # Create a new column to represent the split based on the threshold\n",
        "    df_train['price_split'] = (df_train['price'] <= threshold).astype(int)\n",
        "\n",
        "    # Calculate the entropy of the parent node (before split)\n",
        "    # father_entropy = entropy_calculate(df_train.index)\n",
        "\n",
        "    # Calculate information gain for this split\n",
        "    ig = ig_calculate(df_train['price_split'], df_train.index, 5.018366577203956)\n",
        "    #print (ig)\n",
        "    # Update best threshold and information gain if needed\n",
        "    if ig > best_ig:\n",
        "        best_threshold = threshold\n",
        "        best_ig = ig\n",
        "\n",
        "    # Remove the temporary 'price_split' column\n",
        "    df_train.drop(columns=['price_split'], inplace=True)\n",
        "\n",
        "# Print the best threshold and information gain\n",
        "print(\"Best Threshold:\", best_threshold)\n",
        "print(\"Best Information Gain:\", best_ig)"
      ],
      "metadata": {
        "colab": {
          "base_uri": "https://localhost:8080/"
        },
        "id": "Mmf_DnX6_at1",
        "outputId": "bbb51c01-d673-485c-a09b-adc14d52eee7"
      },
      "execution_count": 54,
      "outputs": [
        {
          "output_type": "stream",
          "name": "stdout",
          "text": [
            "Best Threshold: 16499.0\n",
            "Best Information Gain: 0.3350668988353869\n"
          ]
        }
      ]
    },
    {
      "cell_type": "code",
      "source": [
        "best_threshold = None\n",
        "best_ig = float('-inf')\n",
        "\n",
        "# Iterate over unique values in 'price' column\n",
        "for threshold in df_train['mileage'].unique():\n",
        "    # Create a new column to represent the split based on the threshold\n",
        "    df_train['mileage_split'] = (df_train['mileage'] <= threshold).astype(int)\n",
        "\n",
        "    # Calculate the entropy of the parent node (before split)\n",
        "    # father_entropy = entropy_calculate(df_train.index)\n",
        "\n",
        "    # Calculate information gain for this split\n",
        "    ig = ig_calculate(df_train['mileage_split'], df_train.index, 5.018366577203956)\n",
        "    #print (ig)\n",
        "    # Update best threshold and information gain if needed\n",
        "    if ig > best_ig:\n",
        "        best_threshold = threshold\n",
        "        best_ig = ig\n",
        "\n",
        "    # Remove the temporary 'price_split' column\n",
        "    df_train.drop(columns=['mileage_split'], inplace=True)\n",
        "\n",
        "# Print the best threshold and information gain\n",
        "print(\"Best Threshold:\", best_threshold)\n",
        "print(\"Best Information Gain:\", best_ig)"
      ],
      "metadata": {
        "colab": {
          "base_uri": "https://localhost:8080/"
        },
        "id": "xNbl_bR7_20X",
        "outputId": "66adbce2-89b8-440d-ccb9-124461ccd71c"
      },
      "execution_count": 55,
      "outputs": [
        {
          "output_type": "stream",
          "name": "stdout",
          "text": [
            "Best Threshold: 33446.0\n",
            "Best Information Gain: 0.045440037625788854\n"
          ]
        }
      ]
    },
    {
      "cell_type": "code",
      "source": [
        "best_threshold = None\n",
        "best_ig = float('-inf')\n",
        "\n",
        "# Iterate over unique values in 'price' column\n",
        "for threshold in df_train['mpg'].unique():\n",
        "    # Create a new column to represent the split based on the threshold\n",
        "    df_train['mpg_split'] = (df_train['mpg'] <= threshold).astype(int)\n",
        "\n",
        "    # Calculate the entropy of the parent node (before split)\n",
        "    # father_entropy = entropy_calculate(df_train.index)\n",
        "\n",
        "    # Calculate information gain for this split\n",
        "    ig = ig_calculate(df_train['mpg_split'], df_train.index, 5.018366577203956)\n",
        "    #print (ig)\n",
        "    # Update best threshold and information gain if needed\n",
        "    if ig > best_ig:\n",
        "        best_threshold = threshold\n",
        "        best_ig = ig\n",
        "\n",
        "    # Remove the temporary 'price_split' column\n",
        "    df_train.drop(columns=['mpg_split'], inplace=True)\n",
        "\n",
        "# Print the best threshold and information gain\n",
        "print(\"Best Threshold:\", best_threshold)\n",
        "print(\"Best Information Gain:\", best_ig)"
      ],
      "metadata": {
        "colab": {
          "base_uri": "https://localhost:8080/"
        },
        "id": "KBKr76jyAhgn",
        "outputId": "de6130ba-3c78-41b1-e906-feefb29301a6"
      },
      "execution_count": 56,
      "outputs": [
        {
          "output_type": "stream",
          "name": "stdout",
          "text": [
            "Best Threshold: 55.4\n",
            "Best Information Gain: 0.1632264516047659\n"
          ]
        }
      ]
    },
    {
      "cell_type": "code",
      "source": [
        "price_threshhold = 16499.0\n",
        "mileage_threshhold = 33446.0\n",
        "mpg_threshhold = 55.4\n",
        "df_train['price_split'] = (df_train['price'] <= price_threshhold).astype(int)\n",
        "df_train['mpg_split'] = (df_train['mpg'] <= mpg_threshhold).astype(int)\n",
        "df_train['mileage_split'] = (df_train['mileage'] <= mileage_threshhold).astype(int)\n",
        "df_test['price_split'] = (df_test['price'] <= price_threshhold).astype(int)\n",
        "df_test['mpg_split'] = (df_test['mpg'] <= mpg_threshhold).astype(int)\n",
        "df_test['mileage_split'] = (df_test['mileage'] <= mileage_threshhold).astype(int)"
      ],
      "metadata": {
        "id": "W36sUz3CBHhl"
      },
      "execution_count": 57,
      "outputs": []
    },
    {
      "cell_type": "code",
      "source": [
        "df_train = df_train.drop(columns=['price','mpg','mileage'])\n",
        "df_test = df_test.drop(columns=['price','mpg','mileage'])"
      ],
      "metadata": {
        "id": "zKg-hLrOBeac"
      },
      "execution_count": 58,
      "outputs": []
    },
    {
      "cell_type": "code",
      "source": [
        "df_train = df_train.drop(columns=['year','tax'])\n",
        "df_test = df_test.drop(columns=['year','tax'])"
      ],
      "metadata": {
        "id": "-ulfgnE09lTy"
      },
      "execution_count": 59,
      "outputs": []
    },
    {
      "cell_type": "code",
      "source": [
        "df_test.info()"
      ],
      "metadata": {
        "colab": {
          "base_uri": "https://localhost:8080/"
        },
        "id": "AxFu_n9vHZ4Y",
        "outputId": "79fe6880-c4b7-4bba-c5c7-629c58627a9b"
      },
      "execution_count": 60,
      "outputs": [
        {
          "output_type": "stream",
          "name": "stdout",
          "text": [
            "<class 'pandas.core.frame.DataFrame'>\n",
            "RangeIndex: 600 entries, 0 to 599\n",
            "Data columns (total 8 columns):\n",
            " #   Column                Non-Null Count  Dtype\n",
            "---  ------                --------------  -----\n",
            " 0   transmission_encoded  600 non-null    int64\n",
            " 1   fuelType_encoded      600 non-null    int64\n",
            " 2   Manufacturer_encoded  600 non-null    int64\n",
            " 3   model_encoded         600 non-null    int64\n",
            " 4   engineSize_encoded    600 non-null    int64\n",
            " 5   price_split           600 non-null    int64\n",
            " 6   mpg_split             600 non-null    int64\n",
            " 7   mileage_split         600 non-null    int64\n",
            "dtypes: int64(8)\n",
            "memory usage: 37.6 KB\n"
          ]
        }
      ]
    },
    {
      "cell_type": "code",
      "source": [
        "# Assuming df_train and df_test are your DataFrames\n",
        "label_column = 'model_encoded'\n",
        "\n",
        "# Reorder columns in df_train\n",
        "df_train = df_train[[col for col in df_train.columns if col != label_column] + [label_column]]\n",
        "\n",
        "# Reorder columns in df_test (optional if you also want to reorder the columns in the test DataFrame)\n",
        "df_test = df_test[[col for col in df_test.columns if col != label_column] + [label_column]]\n"
      ],
      "metadata": {
        "id": "56J7kZlBCD9N"
      },
      "execution_count": 73,
      "outputs": []
    },
    {
      "cell_type": "code",
      "source": [
        "df_train['Manufacturer_encoded'].unique()"
      ],
      "metadata": {
        "colab": {
          "base_uri": "https://localhost:8080/"
        },
        "id": "y4Qsy-XvZV9q",
        "outputId": "242c81eb-4723-4954-8bef-5c33e2ee73fe"
      },
      "execution_count": 307,
      "outputs": [
        {
          "output_type": "execute_result",
          "data": {
            "text/plain": [
              "array([6, 8, 2, 4, 5, 7, 1, 0, 3])"
            ]
          },
          "metadata": {},
          "execution_count": 307
        }
      ]
    },
    {
      "cell_type": "code",
      "source": [
        "class Node :\n",
        "  def __init__ (self,attribute=None,value=None,depth=None,entropy=None,id=None,df=None,father_attribute = None):\n",
        "    self.attribute = attribute  # Attribute Selected for this Node\n",
        "    self.value = value  #value of Attribute Selected by its father\n",
        "    self.depth = depth  #depth of this Node\n",
        "    self.children = []  #list of its children\n",
        "    self.entropy = entropy\n",
        "    self.id = id\n",
        "    self.checked = False\n",
        "    self.df = df\n",
        "    self.label = None\n",
        "    self.is_leaf = False\n",
        "    self.father_attribute = father_attribute"
      ],
      "metadata": {
        "id": "NLJTzjLecxxL"
      },
      "execution_count": 315,
      "outputs": []
    },
    {
      "cell_type": "code",
      "source": [
        "class DecisionTree :\n",
        "  def __init__(self,max_depth = None):\n",
        "    self.root = None\n",
        "    self.label = None\n",
        "    self.all = None\n",
        "    self.nodes = []\n",
        "    self.first_id_to_create = 0\n",
        "    self.max_depth = max_depth if max_depth is not None else 3\n",
        "\n",
        "  def fit (self,df):\n",
        "    self.all = df\n",
        "    self.label = df.columns[-1]\n",
        "    root_node = Node(id=self.first_id_to_create,depth = 0,df=df)\n",
        "    self.nodes.append(root_node)\n",
        "    self.first_id_to_create += 1\n",
        "    self.root = root_node\n",
        "    self.nodes.append(root_node)\n",
        "    #self.grow_tree(self.nodes[0])\n",
        "\n",
        "    entropy = self.calculate_entropy(self.nodes[0])\n",
        "    self.nodes[0].entropy = entropy\n",
        "    self.grow_tree(self.nodes[0])\n",
        "\n",
        "\n",
        "  def grow_tree (self,node):\n",
        "    node.checked = True\n",
        "    if node.depth >= self.max_depth :\n",
        "      node.label = node.df[self.label].value_counts().idxmax()\n",
        "      node.is_leaf = True\n",
        "      return\n",
        "\n",
        "    elif len(node.df[self.label].unique()) == 1:\n",
        "      node.label = node.df[self.label].unique()[0]\n",
        "      node.is_leaf = True\n",
        "      return\n",
        "\n",
        "    else :\n",
        "      best_ig = -20\n",
        "      best_attribute = None\n",
        "      for column in node.df.columns :\n",
        "        if column != 'model_encoded' and self.calculate_ig(node.df,column) > best_ig :\n",
        "          best_ig = self.calculate_ig(node.df,column)\n",
        "          best_attribute = column\n",
        "\n",
        "      node.attribute = best_attribute\n",
        "      for value in node.df[best_attribute].unique() :\n",
        "        newNode = Node(value=value,\n",
        "                       depth=(node.depth+1),\n",
        "                       df=node.df[node.df[best_attribute]==value].drop(columns=[best_attribute]) ,\n",
        "                       id=(self.first_id_to_create)+1,\n",
        "                       father_attribute = node.attribute);\n",
        "        self.first_id_to_create += 1\n",
        "        self.nodes.append(newNode)\n",
        "        self.grow_tree(newNode)\n",
        "        node.children.append(newNode)\n",
        "\n",
        "\n",
        "\n",
        "\n",
        "  def calculate_entropy(self,node):\n",
        "    unique_labels, label_counts = np.unique(node.df[self.label], return_counts=True)\n",
        "    probabilities = label_counts / len(node.df[self.label])\n",
        "    entropy = -np.sum(probabilities * np.log2(probabilities))\n",
        "    return entropy\n",
        "\n",
        "  def calculate_entropy2(self,df):\n",
        "    unique_labels, label_counts = np.unique(df[self.label], return_counts=True)\n",
        "    probabilities = label_counts / len(df[self.label])\n",
        "    entropy = -np.sum(probabilities * np.log2(probabilities))\n",
        "    return entropy\n",
        "\n",
        "  def calculate_ig (self,df,attr):\n",
        "    entropy_father = self.calculate_entropy2(df)\n",
        "    entropy_children = 0\n",
        "    sum_weights = 0\n",
        "    for value in df[attr].unique():\n",
        "      weight = len(df[df[attr] == value])\n",
        "      entropy_child = self.calculate_entropy2(df[df[attr]==value])\n",
        "      entropy_children += (weight*entropy_child)\n",
        "      sum_weights += weight\n",
        "\n",
        "    return entropy_father - (entropy_children/sum_weights)\n",
        "\n",
        "  def predict(self, df_test):\n",
        "        predictions = []\n",
        "        for _, row in df_test.iterrows():\n",
        "            node = self.root\n",
        "            while not node.is_leaf:\n",
        "                attribute_value = row[node.attribute]\n",
        "                found_child = False\n",
        "                for child in node.children:\n",
        "                    if child.value == attribute_value:\n",
        "                        node = child\n",
        "                        found_child = True\n",
        "                        break\n",
        "                if not found_child:\n",
        "                    # If the attribute value is not found in the children,\n",
        "                    # we cannot make a prediction. This might happen if the\n",
        "                    # test data contains a value not seen during training.\n",
        "                    predictions.append(None)\n",
        "                    break\n",
        "            else:\n",
        "                predictions.append(node.label)\n",
        "        return predictions\n",
        ""
      ],
      "metadata": {
        "id": "kVqUyl3zfTOf"
      },
      "execution_count": 318,
      "outputs": []
    },
    {
      "cell_type": "code",
      "source": [
        "dt = DecisionTree(max_depth=4)\n",
        "dt.fit(df_train)\n",
        "\n",
        "predictions = dt.predict(df_test)\n",
        "\n",
        "actual_labels = df_test['model_encoded']\n",
        "\n",
        "accuracy_score = 0\n",
        "for i in range(600) :\n",
        "  if predictions[i] == actual_labels[i] :\n",
        "    accuracy_score+=1\n",
        "\n",
        "print(accuracy_score/600)"
      ],
      "metadata": {
        "colab": {
          "base_uri": "https://localhost:8080/"
        },
        "id": "hTde1-slgRe8",
        "outputId": "354090c1-8dc2-4d74-d3ec-b94c423e9644"
      },
      "execution_count": 335,
      "outputs": [
        {
          "output_type": "stream",
          "name": "stdout",
          "text": [
            "0.65\n"
          ]
        }
      ]
    }
  ]
}